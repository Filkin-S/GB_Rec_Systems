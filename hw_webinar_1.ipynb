{
 "cells": [
  {
   "cell_type": "markdown",
   "metadata": {},
   "source": [
    "# Домащнее задание - 1"
   ]
  },
  {
   "cell_type": "markdown",
   "metadata": {},
   "source": [
    "Заполните пропуски #your_code для функций ниже"
   ]
  },
  {
   "cell_type": "code",
   "execution_count": 1,
   "metadata": {},
   "outputs": [],
   "source": [
    "import numpy as np\n",
    "\n",
    "recommended_list = [143, 156, 1134, 991, 27, 1543, 3345, 533, 11, 43] #id товаров\n",
    "bought_list = [521, 32, 143, 991]\n",
    "\n",
    "prices_recommended = [100, 90, 10, 450, 50, 37, 99, 120, 34, 100]\n",
    "prices_bought = [110, 190, 100, 450]"
   ]
  },
  {
   "cell_type": "code",
   "execution_count": 2,
   "metadata": {},
   "outputs": [
    {
     "data": {
      "text/plain": [
       "array([ 143,  156, 1134,  991,   27])"
      ]
     },
     "execution_count": 2,
     "metadata": {},
     "output_type": "execute_result"
    }
   ],
   "source": [
    "def hit_rate_at_k(recommended_list, bought_list, k=5):\n",
    "    \n",
    "    flags = np.isin(bought_list, recommended_list[:k]) # судя по документации np.isin сама преобразует аргументы в arrays \n",
    "    \n",
    "    hit_rate = (flags.sum() > 0) * 1\n",
    "    \n",
    "    return hit_rate\n",
    "\n",
    "np.array(recommended_list[:5])"
   ]
  },
  {
   "cell_type": "code",
   "execution_count": 3,
   "metadata": {},
   "outputs": [],
   "source": [
    "def money_precision_at_k(recommended_list, bought_list, prices_recommended, k=5):\n",
    "    \n",
    "    #Money Precision@k = (revenue of recommended items @k that are relevant) / (revenue of recommended items @k)\n",
    "    \n",
    "    flags = np.isin(recommended_list[:k], bought_list)\n",
    "    \n",
    "    precision = np.sum(\n",
    "                np.multiply(flags, prices_recommended[:k])\n",
    "                ) / np.sum(prices_recommended[:k])\n",
    "                    \n",
    "    return precision"
   ]
  },
  {
   "cell_type": "code",
   "execution_count": 4,
   "metadata": {},
   "outputs": [],
   "source": [
    "def recall_at_k(recommended_list, bought_list, k=5):\n",
    "    \n",
    "    flags = np.isin(bought_list, recommended_list[:k])\n",
    "    \n",
    "    recall = flags.sum() / len(bought_list)\n",
    "     \n",
    "    return recall\n",
    "\n",
    "\n",
    "def money_recall_at_k(recommended_list, bought_list, prices_recommended, prices_bought, k=5):\n",
    "    \n",
    "    # Money Recall@k = (revenue of recommended items @k that are relevant) / (revenue of relevant items)\n",
    "    \n",
    "    flags = np.isin(recommended_list[:k], bought_list)\n",
    "    \n",
    "    recall = np.sum(\n",
    "                np.multiply(flags, prices_recommended[:k])\n",
    "                ) / np.sum(prices_bought)\n",
    "    \n",
    "    return recall"
   ]
  },
  {
   "cell_type": "code",
   "execution_count": 5,
   "metadata": {},
   "outputs": [],
   "source": [
    "def reciprocal_rank(recommended_list, bought_list):\n",
    "    \n",
    "    flags = np.isin(recommended_list[:k], bought_list)\n",
    "    \n",
    "    result = 1 / (np.nonzero(flags)[0][0] + 1)\n",
    "    \n",
    "    return result"
   ]
  }
 ],
 "metadata": {
  "kernelspec": {
   "display_name": "Python 3",
   "language": "python",
   "name": "python3"
  },
  "language_info": {
   "codemirror_mode": {
    "name": "ipython",
    "version": 3
   },
   "file_extension": ".py",
   "mimetype": "text/x-python",
   "name": "python",
   "nbconvert_exporter": "python",
   "pygments_lexer": "ipython3",
   "version": "3.7.6"
  }
 },
 "nbformat": 4,
 "nbformat_minor": 4
}
