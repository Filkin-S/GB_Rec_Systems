{
 "cells": [
  {
   "cell_type": "code",
   "execution_count": 1,
   "metadata": {},
   "outputs": [],
   "source": [
    "import pandas as pd\n",
    "import numpy as np\n",
    "import matplotlib.pyplot as plt\n",
    "%matplotlib inline\n",
    "\n",
    "# Для работы с матрицами\n",
    "from scipy.sparse import csr_matrix, coo_matrix\n",
    "\n",
    "# Детерминированные алгоритмы\n",
    "from implicit.nearest_neighbours import ItemItemRecommender, CosineRecommender, TFIDFRecommender, BM25Recommender\n",
    "\n",
    "# Метрики\n",
    "from implicit.evaluation import train_test_split\n",
    "from implicit.evaluation import precision_at_k, mean_average_precision_at_k, AUC_at_k, ndcg_at_k"
   ]
  },
  {
   "cell_type": "code",
   "execution_count": 2,
   "metadata": {},
   "outputs": [
    {
     "data": {
      "text/html": [
       "<div>\n",
       "<style scoped>\n",
       "    .dataframe tbody tr th:only-of-type {\n",
       "        vertical-align: middle;\n",
       "    }\n",
       "\n",
       "    .dataframe tbody tr th {\n",
       "        vertical-align: top;\n",
       "    }\n",
       "\n",
       "    .dataframe thead th {\n",
       "        text-align: right;\n",
       "    }\n",
       "</style>\n",
       "<table border=\"1\" class=\"dataframe\">\n",
       "  <thead>\n",
       "    <tr style=\"text-align: right;\">\n",
       "      <th></th>\n",
       "      <th>user_id</th>\n",
       "      <th>basket_id</th>\n",
       "      <th>day</th>\n",
       "      <th>item_id</th>\n",
       "      <th>quantity</th>\n",
       "      <th>sales_value</th>\n",
       "      <th>store_id</th>\n",
       "      <th>retail_disc</th>\n",
       "      <th>trans_time</th>\n",
       "      <th>week_no</th>\n",
       "      <th>coupon_disc</th>\n",
       "      <th>coupon_match_disc</th>\n",
       "    </tr>\n",
       "  </thead>\n",
       "  <tbody>\n",
       "    <tr>\n",
       "      <th>0</th>\n",
       "      <td>2375</td>\n",
       "      <td>26984851472</td>\n",
       "      <td>1</td>\n",
       "      <td>1004906</td>\n",
       "      <td>1</td>\n",
       "      <td>1.39</td>\n",
       "      <td>364</td>\n",
       "      <td>-0.6</td>\n",
       "      <td>1631</td>\n",
       "      <td>1</td>\n",
       "      <td>0.0</td>\n",
       "      <td>0.0</td>\n",
       "    </tr>\n",
       "    <tr>\n",
       "      <th>1</th>\n",
       "      <td>2375</td>\n",
       "      <td>26984851472</td>\n",
       "      <td>1</td>\n",
       "      <td>1033142</td>\n",
       "      <td>1</td>\n",
       "      <td>0.82</td>\n",
       "      <td>364</td>\n",
       "      <td>0.0</td>\n",
       "      <td>1631</td>\n",
       "      <td>1</td>\n",
       "      <td>0.0</td>\n",
       "      <td>0.0</td>\n",
       "    </tr>\n",
       "  </tbody>\n",
       "</table>\n",
       "</div>"
      ],
      "text/plain": [
       "   user_id    basket_id  day  item_id  quantity  sales_value  store_id  \\\n",
       "0     2375  26984851472    1  1004906         1         1.39       364   \n",
       "1     2375  26984851472    1  1033142         1         0.82       364   \n",
       "\n",
       "   retail_disc  trans_time  week_no  coupon_disc  coupon_match_disc  \n",
       "0         -0.6        1631        1          0.0                0.0  \n",
       "1          0.0        1631        1          0.0                0.0  "
      ]
     },
     "execution_count": 2,
     "metadata": {},
     "output_type": "execute_result"
    }
   ],
   "source": [
    "data = pd.read_csv('retail_train.csv')\n",
    "data.head(2)"
   ]
  },
  {
   "cell_type": "code",
   "execution_count": 3,
   "metadata": {},
   "outputs": [],
   "source": [
    "test_size_weeks = 3\n",
    "\n",
    "data_train = data[data['week_no'] < data['week_no'].max() - test_size_weeks]\n",
    "data_test = data[data['week_no'] >= data['week_no'].max() - test_size_weeks]"
   ]
  },
  {
   "cell_type": "markdown",
   "metadata": {},
   "source": [
    "### Задание 1. Weighted Random Recommendation\n",
    "\n",
    "Напишите код для случайных рекоммендаций, в которых вероятность рекомендовать товар прямо пропорциональна логарифму продаж\n",
    "- Можно сэмплировать товары случайно, но пропорционально какому-либо весу\n",
    "- Например, прямопропорционально популярности. Вес = log(sales_sum товара)"
   ]
  },
  {
   "cell_type": "code",
   "execution_count": 4,
   "metadata": {},
   "outputs": [],
   "source": [
    "def weighted_random_recommendation(items_weights, n=5):\n",
    "    \"\"\"Случайные рекоммендации\n",
    "    \n",
    "    Input\n",
    "    -----\n",
    "    items_weights: pd.DataFrame\n",
    "        Датафрейм со столбцами item_id, weight. Сумма weight по всем товарам = 1\n",
    "    \"\"\"\n",
    "    \n",
    "    # Подсказка: необходимо модифицировать функцию random_recommendation()\n",
    "    # your_code\n",
    "    \n",
    "    items = np.array(items_weights['item_id'])\n",
    "    probs = np.array(items_weights['weight'])\n",
    "    probs /= probs.sum()\n",
    "    recs = np.random.choice(items, size=n, replace=False, p=probs)\n",
    "    \n",
    "    return recs.tolist()"
   ]
  },
  {
   "cell_type": "code",
   "execution_count": 5,
   "metadata": {},
   "outputs": [
    {
     "name": "stderr",
     "output_type": "stream",
     "text": [
      "C:\\Users\\horne\\anaconda3\\lib\\site-packages\\pandas\\core\\series.py:679: RuntimeWarning: divide by zero encountered in log\n",
      "  result = getattr(ufunc, method)(*inputs, **kwargs)\n"
     ]
    },
    {
     "name": "stdout",
     "output_type": "stream",
     "text": [
      "Wall time: 5.37 s\n"
     ]
    },
    {
     "data": {
      "text/html": [
       "<div>\n",
       "<style scoped>\n",
       "    .dataframe tbody tr th:only-of-type {\n",
       "        vertical-align: middle;\n",
       "    }\n",
       "\n",
       "    .dataframe tbody tr th {\n",
       "        vertical-align: top;\n",
       "    }\n",
       "\n",
       "    .dataframe thead th {\n",
       "        text-align: right;\n",
       "    }\n",
       "</style>\n",
       "<table border=\"1\" class=\"dataframe\">\n",
       "  <thead>\n",
       "    <tr style=\"text-align: right;\">\n",
       "      <th></th>\n",
       "      <th>user_id</th>\n",
       "      <th>actual</th>\n",
       "      <th>weighted_random_recommendation</th>\n",
       "    </tr>\n",
       "  </thead>\n",
       "  <tbody>\n",
       "    <tr>\n",
       "      <th>0</th>\n",
       "      <td>1</td>\n",
       "      <td>[821867, 834484, 856942, 865456, 889248, 90795...</td>\n",
       "      <td>[9935616, 6514144, 1256920, 15596908, 12648296]</td>\n",
       "    </tr>\n",
       "    <tr>\n",
       "      <th>1</th>\n",
       "      <td>3</td>\n",
       "      <td>[835476, 851057, 872021, 878302, 879948, 90963...</td>\n",
       "      <td>[13211924, 1027735, 9837432, 921489, 1119243]</td>\n",
       "    </tr>\n",
       "    <tr>\n",
       "      <th>2</th>\n",
       "      <td>6</td>\n",
       "      <td>[920308, 926804, 946489, 1006718, 1017061, 107...</td>\n",
       "      <td>[9297064, 883562, 14025680, 897731, 1044434]</td>\n",
       "    </tr>\n",
       "    <tr>\n",
       "      <th>3</th>\n",
       "      <td>7</td>\n",
       "      <td>[840386, 889774, 898068, 909714, 929067, 95347...</td>\n",
       "      <td>[12456946, 10121739, 967957, 12524439, 851067]</td>\n",
       "    </tr>\n",
       "    <tr>\n",
       "      <th>4</th>\n",
       "      <td>8</td>\n",
       "      <td>[835098, 872137, 910439, 924610, 992977, 10412...</td>\n",
       "      <td>[8293355, 13158602, 1070983, 1119190, 891951]</td>\n",
       "    </tr>\n",
       "  </tbody>\n",
       "</table>\n",
       "</div>"
      ],
      "text/plain": [
       "   user_id                                             actual  \\\n",
       "0        1  [821867, 834484, 856942, 865456, 889248, 90795...   \n",
       "1        3  [835476, 851057, 872021, 878302, 879948, 90963...   \n",
       "2        6  [920308, 926804, 946489, 1006718, 1017061, 107...   \n",
       "3        7  [840386, 889774, 898068, 909714, 929067, 95347...   \n",
       "4        8  [835098, 872137, 910439, 924610, 992977, 10412...   \n",
       "\n",
       "                    weighted_random_recommendation  \n",
       "0  [9935616, 6514144, 1256920, 15596908, 12648296]  \n",
       "1    [13211924, 1027735, 9837432, 921489, 1119243]  \n",
       "2     [9297064, 883562, 14025680, 897731, 1044434]  \n",
       "3   [12456946, 10121739, 967957, 12524439, 851067]  \n",
       "4    [8293355, 13158602, 1070983, 1119190, 891951]  "
      ]
     },
     "execution_count": 5,
     "metadata": {},
     "output_type": "execute_result"
    }
   ],
   "source": [
    "%%time\n",
    "pd.set_option('use_inf_as_na', True)\n",
    "\n",
    "# your_code\n",
    "items = data_train.groupby('item_id')['sales_value'].sum().reset_index()\n",
    "items['log_item_sales'] = np.log(items['sales_value']).fillna(0)\n",
    "items['weight'] = items['log_item_sales'] / items['log_item_sales'].sum()\n",
    "items = items.drop(columns=['sales_value', 'log_item_sales'])\n",
    "items.loc[items.weight < 0, 'weight'] = 0\n",
    "\n",
    "result = data_test.groupby('user_id')['item_id'].unique().reset_index()\n",
    "result.columns=['user_id', 'actual']\n",
    "result['weighted_random_recommendation'] = result['user_id'].apply(lambda x: weighted_random_recommendation(items, n=5))\n",
    "result.head()"
   ]
  },
  {
   "cell_type": "markdown",
   "metadata": {},
   "source": [
    "### Задание 2. Расчет метрик\n",
    "Рассчитайте Precision@5 для каждого алгоритма с помощью функции из вебинара 1. Какой алгоритм показывает лучшее качество?"
   ]
  },
  {
   "cell_type": "code",
   "execution_count": 89,
   "metadata": {
    "scrolled": true
   },
   "outputs": [
    {
     "data": {
      "text/html": [
       "<div>\n",
       "<style scoped>\n",
       "    .dataframe tbody tr th:only-of-type {\n",
       "        vertical-align: middle;\n",
       "    }\n",
       "\n",
       "    .dataframe tbody tr th {\n",
       "        vertical-align: top;\n",
       "    }\n",
       "\n",
       "    .dataframe thead th {\n",
       "        text-align: right;\n",
       "    }\n",
       "</style>\n",
       "<table border=\"1\" class=\"dataframe\">\n",
       "  <thead>\n",
       "    <tr style=\"text-align: right;\">\n",
       "      <th></th>\n",
       "      <th>user_id</th>\n",
       "      <th>actual</th>\n",
       "      <th>random_recommendation</th>\n",
       "      <th>popular_recommendation</th>\n",
       "      <th>itemitem</th>\n",
       "      <th>cosine</th>\n",
       "      <th>tfidf</th>\n",
       "      <th>own_purchases</th>\n",
       "    </tr>\n",
       "  </thead>\n",
       "  <tbody>\n",
       "    <tr>\n",
       "      <th>0</th>\n",
       "      <td>1</td>\n",
       "      <td>[821867, 834484, 856942, 865456, 889248, 90795...</td>\n",
       "      <td>5586238, 1015228, 866118, 2416733, 2603573</td>\n",
       "      <td>6534178, 6533889, 1029743, 6534166, 1082185</td>\n",
       "      <td>981760, 1127831, 1098066, 826249, 878996</td>\n",
       "      <td>981760, 1127831, 1098066, 878996, 826249</td>\n",
       "      <td>981760, 1127831, 1098066, 826249, 878996</td>\n",
       "      <td>999999, 1082185, 1029743, 995785, 1004906</td>\n",
       "    </tr>\n",
       "    <tr>\n",
       "      <th>1</th>\n",
       "      <td>3</td>\n",
       "      <td>[835476, 851057, 872021, 878302, 879948, 90963...</td>\n",
       "      <td>161354, 63027, 1027802, 12263694, 307395</td>\n",
       "      <td>6534178, 6533889, 1029743, 6534166, 1082185</td>\n",
       "      <td>981760, 995242, 1029743, 840361, 961554</td>\n",
       "      <td>981760, 1004906, 961554, 1096036, 1080414</td>\n",
       "      <td>981760, 1004906, 859075, 1096036, 961554</td>\n",
       "      <td>999999, 1082185, 1098066, 6534178, 1127831</td>\n",
       "    </tr>\n",
       "  </tbody>\n",
       "</table>\n",
       "</div>"
      ],
      "text/plain": [
       "   user_id                                             actual  \\\n",
       "0        1  [821867, 834484, 856942, 865456, 889248, 90795...   \n",
       "1        3  [835476, 851057, 872021, 878302, 879948, 90963...   \n",
       "\n",
       "                        random_recommendation  \\\n",
       "0  5586238, 1015228, 866118, 2416733, 2603573   \n",
       "1    161354, 63027, 1027802, 12263694, 307395   \n",
       "\n",
       "                        popular_recommendation  \\\n",
       "0  6534178, 6533889, 1029743, 6534166, 1082185   \n",
       "1  6534178, 6533889, 1029743, 6534166, 1082185   \n",
       "\n",
       "                                   itemitem  \\\n",
       "0  981760, 1127831, 1098066, 826249, 878996   \n",
       "1   981760, 995242, 1029743, 840361, 961554   \n",
       "\n",
       "                                      cosine  \\\n",
       "0   981760, 1127831, 1098066, 878996, 826249   \n",
       "1  981760, 1004906, 961554, 1096036, 1080414   \n",
       "\n",
       "                                      tfidf  \\\n",
       "0  981760, 1127831, 1098066, 826249, 878996   \n",
       "1  981760, 1004906, 859075, 1096036, 961554   \n",
       "\n",
       "                                own_purchases  \n",
       "0   999999, 1082185, 1029743, 995785, 1004906  \n",
       "1  999999, 1082185, 1098066, 6534178, 1127831  "
      ]
     },
     "execution_count": 89,
     "metadata": {},
     "output_type": "execute_result"
    }
   ],
   "source": [
    "result_ = pd.read_csv('predictions_basic.csv',)\n",
    "result_['actual'] = result['actual']\n",
    "result_['random_recommendation'] = result_['random_recommendation'].str.strip('[]')\n",
    "result_['popular_recommendation'] = result_['popular_recommendation'].str.strip('[]')\n",
    "result_['itemitem'] = result_['itemitem'].str.strip('[]')\n",
    "result_['cosine'] = result_['cosine'].str.strip('[]')\n",
    "result_['tfidf'] = result_['tfidf'].str.strip('[]')\n",
    "result_['own_purchases'] = result_['own_purchases'].str.strip('[]')\n",
    "result_.head(2)"
   ]
  },
  {
   "cell_type": "code",
   "execution_count": 59,
   "metadata": {},
   "outputs": [],
   "source": [
    "# your_code\n",
    "\n",
    "def precision_at_k(recommended_list, bought_list, k=5):\n",
    "    \n",
    "    bought_list = np.array(bought_list)\n",
    "    recommended_list = np.array(recommended_list)\n",
    "    \n",
    "    bought_list = bought_list  # Тут нет [:k] !!\n",
    "    recommended_list = recommended_list[:k]\n",
    "    \n",
    "    flags = np.isin(bought_list, recommended_list)\n",
    "    \n",
    "    precision = flags.sum() / len(recommended_list)\n",
    "    \n",
    "    return precision"
   ]
  },
  {
   "cell_type": "code",
   "execution_count": 91,
   "metadata": {},
   "outputs": [
    {
     "name": "stdout",
     "output_type": "stream",
     "text": [
      "\n",
      "Precision@5:\n",
      "\n",
      "random_recommendation = 0.0005876591576885406,\n",
      "popular_recommendation = 0.15523996082272082,\n",
      "itemitem = 0.033594515181195064,\n",
      "cosine = 0.03525954946131262,\n",
      "tfidf = 0.03614103819784544,\n",
      "own_purchases = 0.1799869409076044\n",
      "\n"
     ]
    }
   ],
   "source": [
    "precision_rnd = result_.apply(lambda row: precision_at_k(list(map(int, row['random_recommendation'].split(sep=', '))), row['actual']), axis=1).mean()\n",
    "precision_pop = result_.apply(lambda row: precision_at_k(list(map(int, row['popular_recommendation'].split(sep=', '))), row['actual']), axis=1).mean()\n",
    "precision_item = result_.apply(lambda row: precision_at_k(list(map(int, row['itemitem'].split(sep=', '))), row['actual']), axis=1).mean()\n",
    "precision_cos = result_.apply(lambda row: precision_at_k(list(map(int, row['cosine'].split(sep=', '))), row['actual']), axis=1).mean()\n",
    "precision_idf = result_.apply(lambda row: precision_at_k(list(map(int, row['tfidf'].split(sep=', '))), row['actual']), axis=1).mean()\n",
    "precision_own = result_.apply(lambda row: precision_at_k(list(map(int, row['own_purchases'].split(sep=', '))), row['actual']), axis=1).mean()\n",
    "\n",
    "print('''\n",
    "Precision@5:\n",
    "\n",
    "random_recommendation = {0},\n",
    "popular_recommendation = {1},\n",
    "itemitem = {2},\n",
    "cosine = {3},\n",
    "tfidf = {4},\n",
    "own_purchases = {5}\n",
    "'''.format(precision_rnd, precision_pop, precision_item, \n",
    "           precision_cos, precision_idf, precision_own))"
   ]
  },
  {
   "cell_type": "markdown",
   "metadata": {},
   "source": [
    "Лучшим алгоритмом является \"Свои покупки\" с Precision@5 = 0.1799, за ним идет \"Популярные\" с Precision@5 = 0.155, далее все три детерминированных алгоритма по убывающей \"itemitem\", \"cosine\", \"tfidf\"  с Precision@5 = 0.036, 0.035, 0.033"
   ]
  },
  {
   "cell_type": "markdown",
   "metadata": {},
   "source": [
    "### Задание 3*. Улучшение бейзлайнов и ItemItem\n",
    "\n",
    "- Попробуйте улучшить бейзлайны, считая их на топ-5000 товаров\n",
    "- Попробуйте улучшить разные варианты ItemItemRecommender, выбирая число соседей $K$."
   ]
  },
  {
   "cell_type": "code",
   "execution_count": null,
   "metadata": {},
   "outputs": [],
   "source": []
  }
 ],
 "metadata": {
  "kernelspec": {
   "display_name": "Python 3",
   "language": "python",
   "name": "python3"
  },
  "language_info": {
   "codemirror_mode": {
    "name": "ipython",
    "version": 3
   },
   "file_extension": ".py",
   "mimetype": "text/x-python",
   "name": "python",
   "nbconvert_exporter": "python",
   "pygments_lexer": "ipython3",
   "version": "3.7.6"
  }
 },
 "nbformat": 4,
 "nbformat_minor": 4
}
